{
 "cells": [
  {
   "cell_type": "markdown",
   "metadata": {},
   "source": [
    "# Introduction to Machine Learning for Physics\n",
    "\n",
    "![machine](./ml_pic_small_qmap.png)\n",
    "\n",
    "## Session 2: Linear Classifiers and the Support Vector Machine.\n",
    "\n",
    "This is the notebook for the second QMAP FSG journal club talk on machine learning and physics applications.\n",
    "\n",
    "Last time we saw an example of handwritten digit classification using a support vector machine. We then switched gears somewhat and discussed _linear regression_ which tries to learn a collection of labeled data $\\{ ( \\vec{x}_i , y_i ) \\} = \\{ ( x_{ij}, y_i ) \\}$ via the hypothesis\n",
    "\n",
    "$$ y_i = \\sum_j \\beta_j x_{ij} \\, , $$\n",
    "\n",
    "with the $\\beta_j$ chosen to minimize the squared error.\n",
    "\n",
    "<img src=\"https://upload.wikimedia.org/wikipedia/commons/thumb/8/87/OLS_geometric_interpretation.svg/1280px-OLS_geometric_interpretation.svg.png\" alt=\"genetic\" style=\"width: 350px;\"/>\n",
    "\n",
    "Today I'd like to make contact between those two topics: what does a linear model (like regression) have to do with a **classification task**, like identifying handwritten digits?\n",
    "\n",
    "One might attempt to generalize what we did last week to the case where our data takes the form $\\{ ( \\vec{x}_i , y_i ) \\}$ where $y_i = \\pm 1$. That is, we want to identify whether each data point belongs to class -1 or class 1. We can again make a linear ansatz:\n",
    "\n",
    "$$ y_i = f \\left( \\sum_j \\beta_j x_{ij} \\right) \\, , $$\n",
    "\n",
    "where we choose a step function for $f$,\n",
    "\n",
    "$$ f ( x_i ) = \\begin{cases} \n",
    "      1 & \\beta_j x_{ij} > \\theta \\\\\n",
    "      -1 & \\text{otherwise} \n",
    "   \\end{cases} $$\n",
    "\n",
    "This ansatz is attempting to separate the data points in the two classes by a hyperplane:\n",
    "   \n",
    "<img src=\"https://upload.wikimedia.org/wikipedia/commons/thumb/2/20/Svm_separating_hyperplanes.png/1024px-Svm_separating_hyperplanes.png\" alt=\"genetic\" style=\"width: 350px;\"/>\n",
    "\n",
    "We should keep in mind two, conceptually distinct, motivating examples where learning problems of this form come up.\n",
    "\n",
    "1. Genuine classification problems, like the handwritten digits example. A general multiclass classification problem, such as taking in an image and spitting out a digit from 0 to 9, can be mapped into a collection of independent binary classification problems via one-vs-rest. Even when the real data is messy and not separable by hyperplanes, the kernel trick for support vector machines can help us cheat and achieve good separation.\n",
    "\n",
    "\n",
    "\n",
    "2. A classification sub-problem in a larger learning task. Consider a neural network, which is a learning algorithm with the topology of a graph. There is an _input layer_ where we enter an $\\vec{x}_i$ and an _output layer_ which predicts one or more $y_i$. Between them are _hidden layers_ which are connected via edges with various weights.\n",
    "\n",
    "<img src=\"https://1.cms.s81c.com/sites/default/files/2021-01-06/ICLH_Diagram_Batch_01_03-DeepNeuralNetwork-WHITEBG.png\" alt=\"genetic\" style=\"width: 500px;\"/>\n",
    "\n",
    "Let's zoom in on a single neuron and freeze what all of the other neurons are doing. This neuron receives a collection of inputs $z_j$ from the neurons in the previous layer. The neuron needs to decide whether to fire, which passes on certain inputs to the neurons in the next layer, or not fire, which passes on zero inputs. One of these two choices will end up leading, far downstream, to better performance in the output layer.\n",
    "\n",
    "**Therefore each individual neuron in a neural network is a classifier which chooses whether to fire $(y_i = -1)$ or not fire ($y_i = 1$). Further, they are linear classifiers of the type we are discussing.**\n",
    "\n",
    "\n",
    "So it is important to understand linear classifiers both for their own sake, and for their role in more sophisticated algorithms.\n",
    "\n",
    "\n",
    "For one final piece of motivation: in understanding the training of a particular linear classifier, the support vector machine, we'll learn about the _primal_ and _dual_ formulations of an optimization problem. This is of independent interest, even outside of classification. One nice example in the context of S-matrix bootstrap is [2102.02847](https://arxiv.org/pdf/2102.02847.pdf).\n",
    "\n",
    "## Example: Perceptron.\n",
    "\n",
    "Let's begin with a simple classifier for illustration. First we generate 100 random data points in the plane."
   ]
  },
  {
   "cell_type": "code",
   "execution_count": 184,
   "metadata": {},
   "outputs": [
    {
     "name": "stdout",
     "output_type": "stream",
     "text": [
      "[[ 0.73211481  2.88239637]\n",
      " [-2.30359009 -2.94493196]\n",
      " [-4.78513755  3.03353835]\n",
      " [ 1.77316916 -4.49748742]\n",
      " [-4.132663   -3.68017511]]\n"
     ]
    }
   ],
   "source": [
    "## Import statements\n",
    "import numpy as np\n",
    "import matplotlib.pyplot as plt\n",
    "%matplotlib inline\n",
    "\n",
    "\n",
    "## Make 100 data points and print the first 5\n",
    "x = np.random.uniform(-5, 5, (100, 2))\n",
    "print(x[:5])"
   ]
  },
  {
   "cell_type": "code",
   "execution_count": 185,
   "metadata": {},
   "outputs": [
    {
     "name": "stdout",
     "output_type": "stream",
     "text": [
      "[1, -1, 1, -1, -1]\n"
     ]
    }
   ],
   "source": [
    "y = [1 if pt[0] + 2*pt[1] > 0 else -1 for pt in x]\n",
    "print(y[:5])"
   ]
  },
  {
   "cell_type": "code",
   "execution_count": 186,
   "metadata": {},
   "outputs": [
    {
     "data": {
      "text/plain": [
       "<matplotlib.collections.PathCollection at 0x1d70bef55b0>"
      ]
     },
     "execution_count": 186,
     "metadata": {},
     "output_type": "execute_result"
    },
    {
     "data": {
      "image/png": "[encoded data removed]",
      "text/plain": [
       "<Figure size 432x288 with 1 Axes>"
      ]
     },
     "metadata": {
      "needs_background": "light"
     },
     "output_type": "display_data"
    }
   ],
   "source": [
    "colors = [\"r\" if pt == 1 else \"b\" for pt in y]\n",
    "plt.scatter(x[:, 0], x[:, 1], c = colors)"
   ]
  },
  {
   "cell_type": "markdown",
   "metadata": {},
   "source": [
    "The data is clearly linearly separable. We'll try to learn the separation using the _perceptron_ algorithm.\n",
    "\n",
    "1. Initialize all weights $w_i$ to zero.\n",
    "\n",
    "2. Iterate through the dataset checking whether points are correctly classified.\n",
    "\n",
    "3. For each mis-classified point $i$, adjust the weight as\n",
    "\n",
    "$$w_k \\to w_k + r x_{ik} ( y_i - \\hat{y}_i ) , $$\n",
    "\n",
    "where $y_i$ is the true value of point $i$ and $\\hat{y}_i$ is the current prediction (no sum on $i$). Here $r$ is a constant called the learning rate."
   ]
  },
  {
   "cell_type": "code",
   "execution_count": 187,
   "metadata": {},
   "outputs": [],
   "source": [
    "def perceptron(X, Y, start_weights, rate = 0.5, verbose = True):\n",
    "    w = start_weights.copy()\n",
    "    \n",
    "    for i, x in enumerate(X):\n",
    "        if (np.dot(X[i], w)*Y[i]) <= 0:\n",
    "            w = w + rate*X[i]*Y[i]\n",
    "            \n",
    "            if verbose:\n",
    "                print(\"After data point \", i, \" weights are \", w)\n",
    "\n",
    "    return w"
   ]
  },
  {
   "cell_type": "code",
   "execution_count": 188,
   "metadata": {},
   "outputs": [
    {
     "name": "stdout",
     "output_type": "stream",
     "text": [
      "After data point  0  weights are  [0.3660574  1.44119818]\n",
      "After data point  21  weights are  [1.9238902  1.03976886]\n",
      "After data point  27  weights are  [1.0155775  2.13492264]\n",
      "After data point  37  weights are  [2.02044514 1.65347181]\n",
      "After data point  61  weights are  [-0.11011253  3.90680887]\n",
      "After data point  62  weights are  [1.71450875 3.10347195]\n"
     ]
    }
   ],
   "source": [
    "w0 = np.zeros(len(x[0]))\n",
    "w1 = perceptron(x, y, w0)"
   ]
  },
  {
   "cell_type": "markdown",
   "metadata": {},
   "source": [
    "We say that the perceptron has _converged_ if there are no misclassifications. We can check that all of the points are correctly classified by running through the perceptron algorithm again until the weights don't change."
   ]
  },
  {
   "cell_type": "code",
   "execution_count": 189,
   "metadata": {},
   "outputs": [
    {
     "name": "stdout",
     "output_type": "stream",
     "text": [
      "Converged on iteration 0\n"
     ]
    }
   ],
   "source": [
    "wi = w1\n",
    "\n",
    "for i in range(20):\n",
    "    new_w = perceptron(x, y, wi, verbose = False)\n",
    "    \n",
    "    if np.array_equal(new_w, wi):\n",
    "        print(\"Converged on iteration\", i)\n",
    "        break\n",
    "        \n",
    "    wi = new_w"
   ]
  },
  {
   "cell_type": "markdown",
   "metadata": {},
   "source": [
    "This means that the perceptron correctly classifies all of the points!"
   ]
  },
  {
   "cell_type": "code",
   "execution_count": 190,
   "metadata": {},
   "outputs": [
    {
     "data": {
      "text/plain": [
       "[<matplotlib.lines.Line2D at 0x1d70e32a5b0>]"
      ]
     },
     "execution_count": 190,
     "metadata": {},
     "output_type": "execute_result"
    },
    {
     "data": {
      "image/png": "[encoded data removed]",
      "text/plain": [
       "<Figure size 432x288 with 1 Axes>"
      ]
     },
     "metadata": {
      "needs_background": "light"
     },
     "output_type": "display_data"
    }
   ],
   "source": [
    "plt.scatter(x[:, 0], x[:, 1], c = colors)\n",
    "\n",
    "m = -wi[0]/wi[1]\n",
    "plt.plot([-5, 5], [-5*m, 5*m],'-g')"
   ]
  },
  {
   "cell_type": "markdown",
   "metadata": {},
   "source": [
    "This algorithm works reasonably well, but has some shortcomings:\n",
    "\n",
    "1. There is no guarantee that the chosen hyperplane is _optimal_ among the space of separating hyperplanes.\n",
    "2. If the data is not linearly separable, the perceptron will never converge.\n",
    "3. The algorithm is stochastic insofar as the result depends on the order in which we train the data and on the learning rate.\n",
    "\n",
    "These issues are addressed by an improvement called the support vector machine, to which we turn next."
   ]
  },
  {
   "cell_type": "code",
   "execution_count": null,
   "metadata": {},
   "outputs": [],
   "source": []
  }
 ],
 "metadata": {
  "kernelspec": {
   "display_name": "Python 3",
   "language": "python",
   "name": "python3"
  },
  "language_info": {
   "codemirror_mode": {
    "name": "ipython",
    "version": 3
   },
   "file_extension": ".py",
   "mimetype": "text/x-python",
   "name": "python",
   "nbconvert_exporter": "python",
   "pygments_lexer": "ipython3",
   "version": "3.8.3"
  }
 },
 "nbformat": 4,
 "nbformat_minor": 4
}
