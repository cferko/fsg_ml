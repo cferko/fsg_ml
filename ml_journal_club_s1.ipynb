{
 "cells": [
  {
   "cell_type": "markdown",
   "metadata": {},
   "source": [
    "# Introduction to Machine Learning for Physics\n",
    "\n",
    "This notebook accompanies a QMAP FSG journal club talk during the winter quarter of 2022. The goal of the talk is to introduce some ideas from machine learning at a very elementary level.\n",
    "\n",
    "![machine](./Downloads/ml_pic_small_qmap.png)\n",
    "\n",
    "First I should try to justify why we, as theoretical physicists, might be interested in machine learning. But thankfully this task is fairly easy, since a large number of machine learning related papers have been appearing on the arXiv of late, including several today! (See [2202.05845](https://arxiv.org/abs/2202.05845), [2202.05896](https://arxiv.org/abs/2202.05896), and [2202.06086](https://arxiv.org/abs/2202.06086).)\n",
    "\n",
    "The first applications of machine learning to theoretical physics focused on finding patterns in the string landscape (e.g. [1706.02714](https://arxiv.org/abs/1706.02714), [1706.03346](https://arxiv.org/abs/1706.03346), [1706.07024](https://arxiv.org/abs/1706.07024), [1707.00655](https://arxiv.org/abs/1707.00655)). The idea is the following:\n",
    "- A generic compactification of string theory involves a large number of choices for parameters like topological quantities which specify the compactification manifold in addition to fluxes, brane winding numbers, etc.\n",
    "- One would like to look within this enormous search space for compactifications which both satisfy certain consistency conditions (like anomaly cancellation constraints) and, ideally, have physics similar to our world (like a small cosmological constant).\n",
    "- The hope is that machine learning techniques can both (1) expedite such a search for realistic compactifications, and (2) identify general patterns within the landscape, for instance by finding clusters of similar compactifications whose parameters are related in some way.\n",
    "\n",
    "However, even if you are not interested in compactifications and string phenomenology, there have since been many other physical problems where ML techniques find applications:\n",
    "- Machine learning can be used to find numerical approximations to the metric on a Calabi-Yau manifold, as in [1910.08605](https://arxiv.org/abs/1910.08605), improving on Donaldson's algorithm.\n",
    "- Neural networks can be used to classify different phases of matter and identify phase transitions, as in [this work](https://www.nature.com/articles/nphys4037).\n",
    "- Learning models have been applied to holography, both in the traditional sense of predicting outputs from inputs (e.g. predicting bulk metric from QCD observables in AdS/QCD [here](https://arxiv.org/abs/2005.02636) or from multi-region entanglement entropy [here](https://arxiv.org/abs/2110.01115), or models where the neural network represents the metric itself [here](https://arxiv.org/abs/1802.08313), more like a random tensor network).\n",
    "- Finally, quantum field theory dynamics have also been proposed to be _modeled_ (not predicted) by neural networks as [here](https://arxiv.org/abs/2112.04527).\n",
    "\n",
    "If you have never seen any applications of machine learning before, I am legally obligated to show you the example of classifying handwritten digits (apologies that this is not physics).\n",
    "\n",
    "\n",
    "## Example 1: Digit Classification Using SVM\n",
    "\n",
    "\n",
    "First we'll import some standard tools. If you're running this notebook on your own machine, you execute cells by clicking inside and hitting Shift + Enter, as in Mathematica."
   ]
  },
  {
   "cell_type": "code",
   "execution_count": 1,
   "metadata": {},
   "outputs": [],
   "source": [
    "# Importing some libraries.\n",
    "\n",
    "import matplotlib.pyplot as plt, numpy as np\n",
    "%matplotlib inline\n",
    "from sklearn import datasets, svm, metrics\n",
    "from sklearn.model_selection import train_test_split"
   ]
  },
  {
   "cell_type": "markdown",
   "metadata": {},
   "source": [
    "Next we'll load our data. Each data point will be an $8 \\times 8$ array of numbers, each of which is an integer between $0$ (white) and $16$ (black).\n",
    "\n",
    "Such a data point represents a grayscale image which corresponds to a handwritten digit. We can view the raw data, as well as a visualization, of a datapoint as follows."
   ]
  },
  {
   "cell_type": "code",
   "execution_count": 2,
   "metadata": {},
   "outputs": [
    {
     "name": "stdout",
     "output_type": "stream",
     "text": [
      "1797 digits loaded.\n"
     ]
    }
   ],
   "source": [
    "# Load the pre-packaged digit data set and display one of them.\n",
    "\n",
    "digits = datasets.load_digits()\n",
    "print(len(digits.data), \"digits loaded.\")"
   ]
  },
  {
   "cell_type": "code",
   "execution_count": 3,
   "metadata": {},
   "outputs": [
    {
     "name": "stdout",
     "output_type": "stream",
     "text": [
      "[ 0.  0.  1. 11. 16. 16. 10.  0.  0.  0. 13. 14.  8. 12. 11.  0.  0.  0.\n",
      "  4.  0.  0. 13.  4.  0.  0.  0.  0.  0.  3. 15.  0.  0.  0.  0.  2. 15.\n",
      " 16. 16.  9.  0.  0.  0.  3. 13. 16.  8.  1.  0.  0.  0.  0.  7. 10.  0.\n",
      "  0.  0.  0.  0.  0. 13.  3.  0.  0.  0.]\n"
     ]
    },
    {
     "data": {
      "text/plain": [
       "<matplotlib.image.AxesImage at 0x2d9500ae2b0>"
      ]
     },
     "execution_count": 3,
     "metadata": {},
     "output_type": "execute_result"
    },
    {
     "data": {
      "image/png": "[encoded data removed]",
      "text/plain": [
       "<Figure size 432x288 with 1 Axes>"
      ]
     },
     "metadata": {
      "needs_background": "light"
     },
     "output_type": "display_data"
    }
   ],
   "source": [
    "n_view = 300\n",
    "print(digits.data[n_view])\n",
    "plt.imshow(digits.images[n_view], cmap=plt.cm.binary, interpolation='nearest')"
   ]
  },
  {
   "cell_type": "markdown",
   "metadata": {},
   "source": [
    "Next we'll use a built-in machine learning algorithm in the scikit-learn library called a _support vector classifier_. Under the hood, this algorithm is measuring distances between example digits in the training set using a certain [kernel](https://en.wikipedia.org/wiki/Radial_basis_function_kernel) and attempting to find hyperplanes in feature space which separate the training samples into different classes.\n",
    "\n",
    "<img src=\"https://upload.wikimedia.org/wikipedia/commons/thumb/f/fe/Kernel_Machine.svg/1920px-Kernel_Machine.svg.png\" alt=\"svc\" style=\"width: 600px;\"/>"
   ]
  },
  {
   "cell_type": "code",
   "execution_count": 4,
   "metadata": {},
   "outputs": [],
   "source": [
    "# Some preprocessing (image arrays must be flat).\n",
    "n_samples = len(digits.images)\n",
    "data = digits.images.reshape((n_samples, -1))\n",
    "\n",
    "# Create a classifier: a support vector classifier.\n",
    "clf = svm.SVC(gamma=0.001)\n",
    "\n",
    "# Gamma is a certain coefficient for some radial basis functions\n",
    "# used in the so-called \"kernel trick\" to be mentioned later.\n",
    "\n",
    "# Split data into 50% train and 50% test subsets.\n",
    "X_train, X_test, y_train, y_test = train_test_split(\n",
    "    data, digits.target, test_size=0.5, shuffle=False\n",
    ")\n",
    "\n",
    "# Learn the digits on the train subset.\n",
    "clf.fit(X_train, y_train)\n",
    "\n",
    "# Predict the value of the digit on the test subset.\n",
    "predicted = clf.predict(X_test)"
   ]
  },
  {
   "cell_type": "markdown",
   "metadata": {},
   "source": [
    "Now our support vector machine has been trained. We can see what output it predicts for each of the test data points, which it has _not_seen before."
   ]
  },
  {
   "cell_type": "code",
   "execution_count": 5,
   "metadata": {},
   "outputs": [
    {
     "data": {
      "image/png": "[encoded data removed]",
      "text/plain": [
       "<Figure size 720x216 with 4 Axes>"
      ]
     },
     "metadata": {
      "needs_background": "light"
     },
     "output_type": "display_data"
    }
   ],
   "source": [
    "_, axes = plt.subplots(nrows=1, ncols=4, figsize=(10, 3))\n",
    "for ax, image, prediction in zip(axes, X_test, predicted):\n",
    "    ax.set_axis_off()\n",
    "    image = image.reshape(8, 8)\n",
    "    ax.imshow(image, cmap=plt.cm.gray_r, interpolation=\"nearest\")\n",
    "    ax.set_title(f\"Prediction: {prediction}\")"
   ]
  },
  {
   "cell_type": "markdown",
   "metadata": {},
   "source": [
    "We can also compute some metrics of performance on the test set. _Precision_ is the fraction of predictions in a class which are correct. _Recall_ is the fraction of true instances of a class which were correctly precicted. The $F1$ score is the harmonic mean of precision and recall: $F = \\frac{2}{ \\frac{1}{P} + \\frac{1}{R} }$.\n",
    "\n",
    "Support is the un-normalized version of precision -- the number, rather than fraction, of predictions in a class which are in that class."
   ]
  },
  {
   "cell_type": "code",
   "execution_count": 6,
   "metadata": {},
   "outputs": [
    {
     "name": "stdout",
     "output_type": "stream",
     "text": [
      "              precision    recall  f1-score   support\n",
      "\n",
      "           0       1.00      0.99      0.99        88\n",
      "           1       0.99      0.97      0.98        91\n",
      "           2       0.99      0.99      0.99        86\n",
      "           3       0.98      0.87      0.92        91\n",
      "           4       0.99      0.96      0.97        92\n",
      "           5       0.95      0.97      0.96        91\n",
      "           6       0.99      0.99      0.99        91\n",
      "           7       0.96      0.99      0.97        89\n",
      "           8       0.94      1.00      0.97        88\n",
      "           9       0.93      0.98      0.95        92\n",
      "\n",
      "    accuracy                           0.97       899\n",
      "   macro avg       0.97      0.97      0.97       899\n",
      "weighted avg       0.97      0.97      0.97       899\n",
      "\n"
     ]
    }
   ],
   "source": [
    "print(metrics.classification_report(y_test, predicted))"
   ]
  },
  {
   "cell_type": "markdown",
   "metadata": {},
   "source": [
    "Alternatively we can look at the \"confusion matrix\" $C_{ij}$ which counts the number of digits in group $i$ which were predicted to be in group $j$."
   ]
  },
  {
   "cell_type": "code",
   "execution_count": 7,
   "metadata": {},
   "outputs": [
    {
     "name": "stdout",
     "output_type": "stream",
     "text": [
      "Confusion matrix:\n",
      "[[87  0  0  0  1  0  0  0  0  0]\n",
      " [ 0 88  1  0  0  0  0  0  1  1]\n",
      " [ 0  0 85  1  0  0  0  0  0  0]\n",
      " [ 0  0  0 79  0  3  0  4  5  0]\n",
      " [ 0  0  0  0 88  0  0  0  0  4]\n",
      " [ 0  0  0  0  0 88  1  0  0  2]\n",
      " [ 0  1  0  0  0  0 90  0  0  0]\n",
      " [ 0  0  0  0  0  1  0 88  0  0]\n",
      " [ 0  0  0  0  0  0  0  0 88  0]\n",
      " [ 0  0  0  1  0  1  0  0  0 90]]\n"
     ]
    },
    {
     "data": {
      "image/png": "[encoded data removed]",
      "text/plain": [
       "<Figure size 432x288 with 2 Axes>"
      ]
     },
     "metadata": {
      "needs_background": "light"
     },
     "output_type": "display_data"
    }
   ],
   "source": [
    "disp = metrics.ConfusionMatrixDisplay.from_predictions(y_test, predicted)\n",
    "disp.figure_.suptitle(\"Confusion Matrix\")\n",
    "print(f\"Confusion matrix:\\n{disp.confusion_matrix}\")\n",
    "\n",
    "plt.show()"
   ]
  },
  {
   "cell_type": "markdown",
   "metadata": {},
   "source": [
    "There is a first end-to-end example of a machine learning task! The rough steps were as follows:\n",
    "\n",
    "1. Begin with a collection of labeled data points $(\\vec{x}_i, y_i)$ where $y_i$ is the class to which the data point belongs (i.e. which digit it is) and $\\vec{x}_i$ is a collection of numbers indicating pixel brightnesses.\n",
    "2. Choose a machine learning algorithm, which specifies a class of functions $g : X \\to Y$ sometimes called the _hypothesis space_ $G$.\n",
    "3. Perform a training step, which chooses a particular $\\hat{g} \\in G$ which minimizes some _loss function_ $\\mathcal{L}$. Roughly speaking,\n",
    "\n",
    "$$\\hat{g} = \\underset{g}{\\mathrm{arg \\, min}} \\, \\mathcal{L} ( g \\mid x, y ) . $$\n",
    "\n",
    "\n",
    "4. Evaluate $\\hat{g} ( x )$ on a collection of _test points_ $x$ which were not part of the training set.\n",
    "5. Study the performance of the function $\\hat{g}$.\n",
    "\n",
    "\n",
    "## Example 2: Evolving the Ground State of a Hamiltonian\n",
    "\n",
    "A different type of machine learning is evolutionary algorithms, and in particular genetic algorithms. This is a class of optimization techniques inspired by biological principles. The idea is the following.\n",
    "\n",
    "<img src=\"./Downloads/genetic.png\" alt=\"genetic\" style=\"width: 600px;\"/>\n",
    "\n",
    "Suppose we want to find the ground state of some Hamiltonian. We can follow this evolutionary strategy by initializing a population of random kets, and then allowing them to reproduce in such a way that lower energy kets have greater evolutionary fitness.\n",
    "\n",
    "We'll do this using the \"Quantum Toolbox in Python\" (QuTiP) library."
   ]
  },
  {
   "cell_type": "code",
   "execution_count": 8,
   "metadata": {},
   "outputs": [
    {
     "data": {
      "text/latex": [
       "Quantum object: dims = [[5], [5]], shape = (5, 5), type = oper, isherm = True\\begin{equation*}\\left(\\begin{array}{*{11}c}0.812 & 0.0 & 0.0 & (-0.496+0.620j) & (0.734-0.127j)\\\\0.0 & 0.463 & (-0.049+0.450j) & 0.0 & (0.290-0.291j)\\\\0.0 & (-0.049-0.450j) & -0.421 & (-0.066+0.456j) & (0.028-0.154j)\\\\(-0.496-0.620j) & 0.0 & (-0.066-0.456j) & 0.697 & (-0.389+0.059j)\\\\(0.734+0.127j) & (0.290+0.291j) & (0.028+0.154j) & (-0.389-0.059j) & 0.251\\\\\\end{array}\\right)\\end{equation*}"
      ],
      "text/plain": [
       "Quantum object: dims = [[5], [5]], shape = (5, 5), type = oper, isherm = True\n",
       "Qobj data =\n",
       "[[ 0.81229755+0.j          0.        +0.j          0.        +0.j\n",
       "  -0.49559459+0.61952983j  0.73428131-0.12695339j]\n",
       " [ 0.        +0.j          0.46328047+0.j         -0.04895608+0.44970751j\n",
       "   0.        +0.j          0.29003713-0.29073275j]\n",
       " [ 0.        +0.j         -0.04895608-0.44970751j -0.42063701+0.j\n",
       "  -0.06556135+0.45629213j  0.02752046-0.1538459j ]\n",
       " [-0.49559459-0.61952983j  0.        +0.j         -0.06556135-0.45629213j\n",
       "   0.69689207+0.j         -0.38907978+0.05927012j]\n",
       " [ 0.73428131+0.12695339j  0.29003713+0.29073275j  0.02752046+0.1538459j\n",
       "  -0.38907978-0.05927012j  0.2514763 +0.j        ]]"
      ]
     },
     "execution_count": 8,
     "metadata": {},
     "output_type": "execute_result"
    }
   ],
   "source": [
    "from qutip import *\n",
    "\n",
    "H = rand_herm(5)\n",
    "H"
   ]
  },
  {
   "cell_type": "code",
   "execution_count": 9,
   "metadata": {},
   "outputs": [
    {
     "data": {
      "text/latex": [
       "Quantum object: dims = [[5], [1]], shape = (5, 1), type = ket\\begin{equation*}\\left(\\begin{array}{*{11}c}(0.441-0.112j)\\\\(-0.351+0.104j)\\\\(-0.200-0.478j)\\\\(-0.033-0.117j)\\\\(-0.237-0.566j)\\\\\\end{array}\\right)\\end{equation*}"
      ],
      "text/plain": [
       "Quantum object: dims = [[5], [1]], shape = (5, 1), type = ket\n",
       "Qobj data =\n",
       "[[ 0.44055898-0.11239045j]\n",
       " [-0.35110443+0.10442699j]\n",
       " [-0.2004327 -0.47762932j]\n",
       " [-0.03271941-0.11704814j]\n",
       " [-0.23672544-0.56567134j]]"
      ]
     },
     "execution_count": 9,
     "metadata": {},
     "output_type": "execute_result"
    }
   ],
   "source": [
    "psi = rand_ket_haar(5)\n",
    "psi"
   ]
  },
  {
   "cell_type": "code",
   "execution_count": 10,
   "metadata": {},
   "outputs": [
    {
     "data": {
      "text/plain": [
       "0.07987968989142216"
      ]
     },
     "execution_count": 10,
     "metadata": {},
     "output_type": "execute_result"
    }
   ],
   "source": [
    "expect(H, psi)"
   ]
  },
  {
   "cell_type": "markdown",
   "metadata": {},
   "source": [
    "Finding the expectation value of this Hamiltonian in a state is straightforward using the `expect` syntax above.\n",
    "\n",
    "Of course, we could exactly diagonalize to find the spectrum of $H$."
   ]
  },
  {
   "cell_type": "code",
   "execution_count": 11,
   "metadata": {},
   "outputs": [
    {
     "data": {
      "text/plain": [
       "array([-0.86012132, -0.33370565,  0.18361187,  0.83357354,  1.97995093])"
      ]
     },
     "execution_count": 11,
     "metadata": {},
     "output_type": "execute_result"
    }
   ],
   "source": [
    "H.eigenenergies()"
   ]
  },
  {
   "cell_type": "markdown",
   "metadata": {},
   "source": [
    "However, as a proof of concept, suppose that we didn't know how to do this diagonalization. We might want to use an evolutionary algorithm with a reproducing population of kets which should evolve toward the ground state.\n",
    "\n",
    "(Of course, there are much better algorithms for finding ground states, but we'll consider this toy example.)\n",
    "\n",
    "First we need some code that will mutate a ket, which should sometimes occur upon reproduction.\n",
    "\n",
    "<img src=\"https://miro.medium.com/max/702/1*CGt_UhRqCjIDb7dqycmOAg.png\" alt=\"genetic\" style=\"width: 250px;\"/>"
   ]
  },
  {
   "cell_type": "code",
   "execution_count": 12,
   "metadata": {},
   "outputs": [],
   "source": [
    "def ket_to_array(ket):\n",
    "    return np.array(ket).flatten()\n",
    "\n",
    "def ket_to_list(ket):\n",
    "    return list(ket_to_array(ket))\n",
    "\n",
    "def mutation(ket, prob_mut):\n",
    "    \"\"\"\n",
    "    Trade the entries of a ket with those of a Haar-random ket if mutation occurs, then re-normalize.\n",
    "    \"\"\"\n",
    "    dim = ket.shape[0]\n",
    "    \n",
    "    mutated_ket = rand_ket_haar(dim)\n",
    "    output_array = ket_to_array(ket)\n",
    "    \n",
    "    for i in range(dim):\n",
    "        random_uniform = np.random.uniform(low = 0, high = 1)\n",
    "        \n",
    "        if random_uniform < prob_mut:\n",
    "        # If mutation occurs, change the corresponding entry to that of the mutated ket.\n",
    "            output_array[i] = mutated_ket[i]\n",
    "    \n",
    "    output_ket = Qobj(output_array).unit()\n",
    "    \n",
    "    return output_ket"
   ]
  },
  {
   "cell_type": "markdown",
   "metadata": {},
   "source": [
    "Another ingredient in genetic algorithms is crossover.\n",
    "\n",
    "Crossing over allows us to combine the \"genetic information\" from two parent kets:\n",
    "\n",
    "![crossover](https://upload.wikimedia.org/wikipedia/commons/thumb/5/56/OnePointCrossover.svg/347px-OnePointCrossover.svg.png)\n",
    "\n",
    "In this case, we randomly choose an index along the ket, then create two parent kets by \"cutting and pasting\" the basis coefficients of the two kets before and after that index. Then we renormalize."
   ]
  },
  {
   "cell_type": "code",
   "execution_count": 13,
   "metadata": {},
   "outputs": [],
   "source": [
    "def crossover(parent_ket_1, parent_ket_2, prob_cross):\n",
    "    \"\"\"\n",
    "    Crosses over two parent kets with some probability.\n",
    "    \n",
    "    Crossover occurs by cutting the two parent kets in half and gluing the basis elements before/after the cut to\n",
    "    create two children.\n",
    "    \"\"\"\n",
    "    dim = parent_ket_1.shape[0]\n",
    "    \n",
    "    parent_list_1 = ket_to_list(parent_ket_1)\n",
    "    parent_list_2 = ket_to_list(parent_ket_2)\n",
    "    \n",
    "    # Begin with children as copies of parents.\n",
    "    child_list_1 = parent_list_1.copy()\n",
    "    child_list_2 = parent_list_2.copy()\n",
    "    \n",
    "    random_uniform = np.random.uniform(low = 0, high = 1)\n",
    "    \n",
    "    # Check whether crossover occurs and if so update children.\n",
    "    if random_uniform < prob_cross:\n",
    "        # Select random index along the vectors (not at either endpoint).\n",
    "        cross_point = np.random.randint(1, dim)\n",
    "        \n",
    "        # Cut and glue the kets to make children.\n",
    "        child_list_1 = parent_list_1[:cross_point] + parent_list_2[cross_point:]\n",
    "        child_list_2 = parent_list_2[:cross_point] + parent_list_1[cross_point:]\n",
    "        \n",
    "    child_ket_1 = Qobj(np.array(child_list_1)).unit()\n",
    "    child_ket_2 = Qobj(np.array(child_list_2)).unit()\n",
    "\n",
    "    return [child_ket_1, child_ket_2]"
   ]
  },
  {
   "cell_type": "code",
   "execution_count": 14,
   "metadata": {},
   "outputs": [],
   "source": [
    "def fitness(ket, H):\n",
    "    \"\"\"\n",
    "    This is the function which our genetic algorithm tries to maximize.\n",
    "    \n",
    "    Since we want the ground state energy, we simply return the negative expectation value of H in the given state.\n",
    "    \"\"\"\n",
    "    return -expect(H, ket)\n",
    "\n",
    "def selection(pop, scores, k=3):\n",
    "    # first random selection\n",
    "    selected_ket_index = np.random.randint(len(pop))\n",
    "    \n",
    "    ## Choose k random kets and compare their scores\n",
    "    for index in np.random.randint(0, len(pop), k-1):\n",
    "        # check if better (e.g. perform a tournament)\n",
    "        if scores[index] > scores[selected_ket_index]:\n",
    "            selected_ket_index = index\n",
    "\n",
    "    return pop[selected_ket_index]\n",
    "\n",
    "def genetic_algorithm(H, n_iter, n_pop, p_cross, p_mut, dim = 5):\n",
    "    # Initialize population with Haar-random unitaries acting on reference ket.\n",
    "    pop = [rand_ket_haar(dim) for i in range(n_pop)]\n",
    "    average_energies = []\n",
    "    \n",
    "    # Keep track of best solution.\n",
    "    best_ket, best_fitness = pop[0], fitness(pop[0], H)\n",
    "    \n",
    "    for gen in range(n_iter):\n",
    "        \n",
    "        # Evaluate energies for all candidates in the population.\n",
    "        scores = [fitness(ket, H) for ket in pop]\n",
    "        \n",
    "        average_energies.append(-np.mean(scores))\n",
    "        \n",
    "        # Check for new best ground state.\n",
    "        for i in range(n_pop):\n",
    "            if scores[i] > best_fitness:\n",
    "                best_ket, best_fitness = pop[i], scores[i]\n",
    "\n",
    "        # Select parents by tournament.\n",
    "        selected = [selection(pop, scores) for i in range(n_pop)]\n",
    "\n",
    "        # Create the next generation by matching parents.\n",
    "        children = []\n",
    "        for i in range(0, n_pop, 2):\n",
    "            # get selected parents in pairs\n",
    "            p1, p2 = selected[i], selected[i+1]\n",
    "            # crossover and mutation\n",
    "            for c in crossover(p1, p2, p_cross):\n",
    "                # mutation\n",
    "                this_child = mutation(c, p_mut)\n",
    "                # store for next generation\n",
    "                children.append(this_child)\n",
    "        # Replace population.\n",
    "        pop = children\n",
    "        \n",
    "    return [best_fitness, best_ket, average_energies]"
   ]
  },
  {
   "cell_type": "code",
   "execution_count": 15,
   "metadata": {},
   "outputs": [
    {
     "data": {
      "text/latex": [
       "Quantum object: dims = [[5], [5]], shape = (5, 5), type = oper, isherm = True\\begin{equation*}\\left(\\begin{array}{*{11}c}0.306 & (-0.946+0.412j) & (0.163-0.238j) & (0.345+0.837j) & (-0.365-0.060j)\\\\(-0.946-0.412j) & 0.403 & (-0.141-0.168j) & (-0.232+0.428j) & (-0.175-0.373j)\\\\(0.163+0.238j) & (-0.141+0.168j) & 0.0 & (-0.076+0.569j) & (-0.187-0.123j)\\\\(0.345-0.837j) & (-0.232-0.428j) & (-0.076-0.569j) & 0.0 & 0.0\\\\(-0.365+0.060j) & (-0.175+0.373j) & (-0.187+0.123j) & 0.0 & 0.833\\\\\\end{array}\\right)\\end{equation*}"
      ],
      "text/plain": [
       "Quantum object: dims = [[5], [5]], shape = (5, 5), type = oper, isherm = True\n",
       "Qobj data =\n",
       "[[ 0.30627011+0.j         -0.94647672+0.41165204j  0.16340219-0.23836837j\n",
       "   0.34545752+0.83749901j -0.36477249-0.06028585j]\n",
       " [-0.94647672-0.41165204j  0.40280265+0.j         -0.14100363-0.1676653j\n",
       "  -0.23222167+0.42807281j -0.17547876-0.37294489j]\n",
       " [ 0.16340219+0.23836837j -0.14100363+0.1676653j   0.        +0.j\n",
       "  -0.07638583+0.568582j   -0.18661511-0.12284412j]\n",
       " [ 0.34545752-0.83749901j -0.23222167-0.42807281j -0.07638583-0.568582j\n",
       "   0.        +0.j          0.        +0.j        ]\n",
       " [-0.36477249+0.06028585j -0.17547876+0.37294489j -0.18661511+0.12284412j\n",
       "   0.        +0.j          0.83314033+0.j        ]]"
      ]
     },
     "execution_count": 15,
     "metadata": {},
     "output_type": "execute_result"
    }
   ],
   "source": [
    "H = rand_herm(5)\n",
    "H"
   ]
  },
  {
   "cell_type": "code",
   "execution_count": 16,
   "metadata": {},
   "outputs": [],
   "source": [
    "output = genetic_algorithm(H, 1000, 100, 0.8, 0.2, dim = 5)"
   ]
  },
  {
   "cell_type": "markdown",
   "metadata": {},
   "source": [
    "Now we can see how close the best ket has gotten to the true ground state energy (and how close it is to the actual ground state eigenvector)."
   ]
  },
  {
   "cell_type": "code",
   "execution_count": 17,
   "metadata": {},
   "outputs": [
    {
     "data": {
      "text/plain": [
       "-1.5376588253812302"
      ]
     },
     "execution_count": 17,
     "metadata": {},
     "output_type": "execute_result"
    }
   ],
   "source": [
    "-output[0]"
   ]
  },
  {
   "cell_type": "code",
   "execution_count": 18,
   "metadata": {},
   "outputs": [
    {
     "name": "stdout",
     "output_type": "stream",
     "text": [
      "Ground state energy:  -1.5458353980971353\n"
     ]
    },
    {
     "data": {
      "text/latex": [
       "Quantum object: dims = [[5], [1]], shape = (5, 1), type = ket\\begin{equation*}\\left(\\begin{array}{*{11}c}-0.574\\\\(-0.440-0.254j)\\\\(-0.233+0.043j)\\\\(0.105-0.555j)\\\\(-0.176+0.080j)\\\\\\end{array}\\right)\\end{equation*}"
      ],
      "text/plain": [
       "Quantum object: dims = [[5], [1]], shape = (5, 1), type = ket\n",
       "Qobj data =\n",
       "[[-0.57392164+0.j        ]\n",
       " [-0.43983393-0.25403891j]\n",
       " [-0.23348262+0.04253228j]\n",
       " [ 0.10535137-0.55467629j]\n",
       " [-0.17638742+0.08014957j]]"
      ]
     },
     "execution_count": 18,
     "metadata": {},
     "output_type": "execute_result"
    }
   ],
   "source": [
    "gs = H.groundstate()\n",
    "print(\"Ground state energy: \", gs[0])\n",
    "gs[1]"
   ]
  },
  {
   "cell_type": "code",
   "execution_count": 19,
   "metadata": {},
   "outputs": [
    {
     "data": {
      "text/latex": [
       "Quantum object: dims = [[5], [1]], shape = (5, 1), type = ket\\begin{equation*}\\left(\\begin{array}{*{11}c}(0.541-0.219j)\\\\(0.471+0.087j)\\\\(0.177-0.104j)\\\\(0.124+0.584j)\\\\(0.121-0.128j)\\\\\\end{array}\\right)\\end{equation*}"
      ],
      "text/plain": [
       "Quantum object: dims = [[5], [1]], shape = (5, 1), type = ket\n",
       "Qobj data =\n",
       "[[0.54127934-0.2192969j ]\n",
       " [0.47102275+0.08747541j]\n",
       " [0.1766715 -0.10428117j]\n",
       " [0.12425387+0.58383633j]\n",
       " [0.12062582-0.12833282j]]"
      ]
     },
     "execution_count": 19,
     "metadata": {},
     "output_type": "execute_result"
    }
   ],
   "source": [
    "output[1]"
   ]
  },
  {
   "cell_type": "code",
   "execution_count": 20,
   "metadata": {},
   "outputs": [
    {
     "data": {
      "text/plain": [
       "[<matplotlib.lines.Line2D at 0x2d95228aa60>]"
      ]
     },
     "execution_count": 20,
     "metadata": {},
     "output_type": "execute_result"
    },
    {
     "data": {
      "image/png": "[encoded data removed]",
      "text/plain": [
       "<Figure size 432x288 with 1 Axes>"
      ]
     },
     "metadata": {
      "needs_background": "light"
     },
     "output_type": "display_data"
    }
   ],
   "source": [
    "plt.plot(output[2])"
   ]
  }
 ],
 "metadata": {
  "kernelspec": {
   "display_name": "Python 3",
   "language": "python",
   "name": "python3"
  },
  "language_info": {
   "codemirror_mode": {
    "name": "ipython",
    "version": 3
   },
   "file_extension": ".py",
   "mimetype": "text/x-python",
   "name": "python",
   "nbconvert_exporter": "python",
   "pygments_lexer": "ipython3",
   "version": "3.8.3"
  }
 },
 "nbformat": 4,
 "nbformat_minor": 4
}
